{
 "cells": [
  {
   "cell_type": "code",
   "execution_count": 52,
   "metadata": {
    "collapsed": true
   },
   "outputs": [],
   "source": [
    "import numpy as np\n",
    "import math\n",
    "import pandas as pd\n",
    "from sklearn.metrics import confusion_matrix, accuracy_score, precision_score, recall_score, auc\n",
    "\n",
    "from tensorflow.keras.optimizers import Adam\n",
    "import tensorflow as tf\n",
    "from scipy.ndimage.filters import uniform_filter1d\n",
    "from tensorflow.keras.layers import Dense, Conv1D, MaxPool1D, BatchNormalization, Dropout, Flatten, Reshape\n",
    "from tensorflow.keras.models import Sequential\n",
    "import matplotlib as plt\n",
    "\n",
    "\n",
    "%matplotlib inline"
   ]
  },
  {
   "cell_type": "code",
   "execution_count": 53,
   "metadata": {
    "collapsed": true
   },
   "outputs": [],
   "source": [
    "# data\n",
    "x_train = pd.read_csv(r'C:/Users/rg654th/Downloads/other/Exoplanet/Data/final_xtrain.csv')\n",
    "x_test = pd.read_csv(r'C:/Users/rg654th/Downloads/other/Exoplanet/Data/final_xtest.csv')\n",
    "y_train = pd.read_csv(r'C:/Users/rg654th/Downloads/other/Exoplanet/Data/final_ytrain.csv')\n",
    "y_test = pd.read_csv(r'C:/Users/rg654th/Downloads/other/Exoplanet/Data/final_ytest.csv')"
   ]
  },
  {
   "cell_type": "code",
   "execution_count": 54,
   "metadata": {
    "collapsed": true
   },
   "outputs": [],
   "source": [
    "# turn pandas to numpy array\n",
    "x_train = x_train.values\n",
    "y_train = y_train.values\n",
    "x_test = x_test.values\n",
    "y_test = y_test.values"
   ]
  },
  {
   "cell_type": "code",
   "execution_count": 55,
   "metadata": {
    "collapsed": true
   },
   "outputs": [],
   "source": [
    "x_train = np.stack([x_train, uniform_filter1d(x_train, axis=1, size=200)], axis=2)\n",
    "x_test = np.stack([x_test, uniform_filter1d(x_test, axis=1, size=200)], axis=2)"
   ]
  },
  {
   "cell_type": "code",
   "execution_count": 56,
   "metadata": {},
   "outputs": [],
   "source": [
    "model = Sequential()\n",
    "model.add(Conv1D(filters=8, kernel_size=11, activation='relu', input_shape=x_train.shape[1:]))\n",
    "model.add(MaxPool1D(strides=4))\n",
    "model.add(BatchNormalization())\n",
    "model.add(Conv1D(filters=16, kernel_size=11, activation='relu'))\n",
    "model.add(MaxPool1D(strides=4))\n",
    "model.add(BatchNormalization())\n",
    "model.add(Conv1D(filters=32, kernel_size=11, activation='relu'))\n",
    "model.add(MaxPool1D(strides=4))\n",
    "model.add(BatchNormalization())\n",
    "model.add(Conv1D(filters=64, kernel_size=11, activation='relu'))\n",
    "model.add(MaxPool1D(strides=4))\n",
    "model.add(Flatten())\n",
    "model.add(Dropout(0.5))\n",
    "model.add(Dense(64, activation='relu'))\n",
    "model.add(Dropout(0.25))\n",
    "model.add(Dense(64, activation='relu'))\n",
    "model.add(Dense(1, activation='sigmoid'))"
   ]
  },
  {
   "cell_type": "code",
   "execution_count": 57,
   "metadata": {
    "collapsed": true
   },
   "outputs": [],
   "source": [
    "# equal number of positive and negative samples seen by the network\n",
    "\n",
    "def batch_generator(x_train, y_train, batch_size=32):\n",
    "    \n",
    "    half_batch = batch_size // 2\n",
    "    x_batch = np.empty((batch_size, x_train.shape[1], x_train.shape[2]), dtype='float32')\n",
    "    y_batch = np.empty((batch_size, y_train.shape[1]), dtype='float32')\n",
    "    \n",
    "    yes_idx = np.where(y_train[:,0] == 1.)[0]\n",
    "    non_idx = np.where(y_train[:,0] == 0.)[0]\n",
    "    \n",
    "    while True:\n",
    "        np.random.shuffle(yes_idx)\n",
    "        np.random.shuffle(non_idx)\n",
    "    \n",
    "        x_batch[:half_batch] = x_train[yes_idx[:half_batch]]\n",
    "        x_batch[half_batch:] = x_train[non_idx[half_batch:batch_size]]\n",
    "        y_batch[:half_batch] = y_train[yes_idx[:half_batch]]\n",
    "        y_batch[half_batch:] = y_train[non_idx[half_batch:batch_size]]\n",
    "    \n",
    "        for i in range(batch_size):\n",
    "            sz = np.random.randint(x_batch.shape[1])\n",
    "            x_batch[i] = np.roll(x_batch[i], sz, axis = 0)\n",
    "     \n",
    "        yield x_batch, y_batch"
   ]
  },
  {
   "cell_type": "code",
   "execution_count": 68,
   "metadata": {},
   "outputs": [
    {
     "name": "stdout",
     "output_type": "stream",
     "text": [
      "Epoch 1/5\n",
      "1132/1132 [==============================] - 2s 2ms/sample - loss: 0.1101 - acc: 0.9814\n",
      "99/99 [==============================] - 13s 127ms/step - loss: 0.0239 - acc: 0.9931 - val_loss: 0.1183 - val_acc: 0.9814\n",
      "Epoch 2/5\n",
      "1132/1132 [==============================] - 1s 1ms/sample - loss: 0.1161 - acc: 0.9779\n",
      "99/99 [==============================] - 11s 115ms/step - loss: 0.0307 - acc: 0.9890 - val_loss: 0.1244 - val_acc: 0.9779\n",
      "Epoch 3/5\n",
      "1132/1132 [==============================] - 2s 1ms/sample - loss: 0.1166 - acc: 0.9744\n",
      "99/99 [==============================] - 12s 119ms/step - loss: 0.0185 - acc: 0.9937 - val_loss: 0.1249 - val_acc: 0.9744\n",
      "Epoch 4/5\n",
      "1132/1132 [==============================] - 2s 2ms/sample - loss: 0.1189 - acc: 0.9770\n",
      "99/99 [==============================] - 13s 129ms/step - loss: 0.0331 - acc: 0.9886 - val_loss: 0.1269 - val_acc: 0.9770\n",
      "Epoch 5/5\n",
      "1132/1132 [==============================] - 1s 1ms/sample - loss: 0.1115 - acc: 0.9770\n",
      "99/99 [==============================] - 12s 118ms/step - loss: 0.0224 - acc: 0.9921 - val_loss: 0.1195 - val_acc: 0.9770\n"
     ]
    }
   ],
   "source": [
    "model.compile(optimizer=Adam(1e-5), loss = 'binary_crossentropy', metrics=['accuracy'])\n",
    "hist = model.fit_generator(batch_generator(x_train, y_train, 32), \n",
    "                           validation_data=(x_test, y_test), \n",
    "                           verbose=1, epochs=5,\n",
    "                           steps_per_epoch=x_train.shape[1]//32)"
   ]
  },
  {
   "cell_type": "code",
   "execution_count": 69,
   "metadata": {},
   "outputs": [
    {
     "name": "stdout",
     "output_type": "stream",
     "text": [
      "Epoch 1/5\n",
      "1132/1132 [==============================] - 2s 2ms/sample - loss: 0.1094 - acc: 0.9814\n",
      "99/99 [==============================] - 16s 157ms/step - loss: 0.0230 - acc: 0.9918 - val_loss: 0.1171 - val_acc: 0.9814\n",
      "Epoch 2/5\n",
      "1132/1132 [==============================] - 1s 1ms/sample - loss: 0.1003 - acc: 0.9832\n",
      "99/99 [==============================] - 12s 119ms/step - loss: 0.0270 - acc: 0.9924 - val_loss: 0.1050 - val_acc: 0.9832\n",
      "Epoch 3/5\n",
      "1132/1132 [==============================] - 2s 1ms/sample - loss: 0.1546 - acc: 0.9655\n",
      "99/99 [==============================] - 12s 121ms/step - loss: 0.0215 - acc: 0.9934 - val_loss: 0.1639 - val_acc: 0.9655\n",
      "Epoch 4/5\n",
      "1132/1132 [==============================] - 1s 1ms/sample - loss: 0.1497 - acc: 0.9673\n",
      "99/99 [==============================] - 12s 125ms/step - loss: 0.0152 - acc: 0.9946 - val_loss: 0.1586 - val_acc: 0.9673\n",
      "Epoch 5/5\n",
      "1132/1132 [==============================] - 2s 1ms/sample - loss: 0.1376 - acc: 0.9691\n",
      "99/99 [==============================] - 12s 120ms/step - loss: 0.0215 - acc: 0.9931 - val_loss: 0.1461 - val_acc: 0.9691\n"
     ]
    }
   ],
   "source": [
    "# faster learning\n",
    "model.compile(optimizer=Adam(3e-5), loss = 'binary_crossentropy', metrics=['accuracy'])\n",
    "hist = model.fit_generator(batch_generator(x_train, y_train, 32), \n",
    "                           validation_data=(x_test, y_test), \n",
    "                           verbose=1, epochs=5,\n",
    "                           steps_per_epoch=x_train.shape[1]//32)"
   ]
  },
  {
   "cell_type": "code",
   "execution_count": 70,
   "metadata": {},
   "outputs": [
    {
     "name": "stdout",
     "output_type": "stream",
     "text": [
      "[[1095   29]\n",
      " [   6    2]]\n"
     ]
    }
   ],
   "source": [
    "# Show confusion matrix\n",
    "y_predi = model.predict_classes(x_test)\n",
    "\n",
    "results = confusion_matrix(y_test, y_predi, labels=None, sample_weight=None)\n",
    "print(results)"
   ]
  },
  {
   "cell_type": "code",
   "execution_count": 71,
   "metadata": {},
   "outputs": [
    {
     "name": "stdout",
     "output_type": "stream",
     "text": [
      "Precision  0.06451612903225806\n",
      "Accuracy  0.9690812720848057\n",
      "Recall  0.25\n"
     ]
    }
   ],
   "source": [
    "# metrics\n",
    "score2 = accuracy_score(y_test, y_predi)\n",
    "score3 = precision_score(y_test, y_predi)\n",
    "score4 = recall_score(y_test, y_predi)\n",
    "\n",
    "print(\"Precision\", \"\", score3)\n",
    "print(\"Accuracy\", \"\", score2)\n",
    "print(\"Recall\", \"\", score4)"
   ]
  }
 ],
 "metadata": {
  "kernelspec": {
   "display_name": "Python 3",
   "language": "python",
   "name": "python3"
  },
  "language_info": {
   "codemirror_mode": {
    "name": "ipython",
    "version": 3
   },
   "file_extension": ".py",
   "mimetype": "text/x-python",
   "name": "python",
   "nbconvert_exporter": "python",
   "pygments_lexer": "ipython3",
   "version": "3.5.4"
  }
 },
 "nbformat": 4,
 "nbformat_minor": 2
}
